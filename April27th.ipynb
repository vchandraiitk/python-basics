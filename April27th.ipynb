{
  "nbformat": 4,
  "nbformat_minor": 0,
  "metadata": {
    "colab": {
      "provenance": [],
      "authorship_tag": "ABX9TyM1loa6zEAV828Ij0YO0Ycf",
      "include_colab_link": true
    },
    "kernelspec": {
      "name": "python3",
      "display_name": "Python 3"
    },
    "language_info": {
      "name": "python"
    }
  },
  "cells": [
    {
      "cell_type": "markdown",
      "metadata": {
        "id": "view-in-github",
        "colab_type": "text"
      },
      "source": [
        "<a href=\"https://colab.research.google.com/github/vchandraiitk/python-basics/blob/main/April27th.ipynb\" target=\"_parent\"><img src=\"https://colab.research.google.com/assets/colab-badge.svg\" alt=\"Open In Colab\"/></a>"
      ]
    },
    {
      "cell_type": "code",
      "execution_count": 11,
      "metadata": {
        "colab": {
          "base_uri": "https://localhost:8080/"
        },
        "id": "wJYuxmmwQ8VS",
        "outputId": "816f4a18-ff74-4019-e947-6df942991478"
      },
      "outputs": [
        {
          "output_type": "stream",
          "name": "stdout",
          "text": [
            "23\n",
            "233168\n"
          ]
        }
      ],
      "source": [
        "def findSumOfNaturalNumbers(n: int) -> int:\n",
        "  total=0\n",
        "  for i in range(0,n):\n",
        "    if i%3==0 or i%5==0:\n",
        "        total += i\n",
        "  return total\n",
        "\n",
        "print(findSumOfNaturalNumbers(10))\n",
        "print(findSumOfNaturalNumbers(1000))"
      ]
    },
    {
      "cell_type": "code",
      "source": [
        "\n",
        "def getAllFactors(n: int):\n",
        "    num = set();\n",
        "    i = 2;\n",
        "    while i <= n:\n",
        "        while n%i == 0:\n",
        "            num.add(i)\n",
        "            n = n // i\n",
        "        i += 1\n",
        "    return num\n",
        "\n",
        "def findBiggestNumberFromSet(s: set):\n",
        "    return max(s)\n",
        "\n",
        "\n",
        "print(findBiggestNumberFromSet(getAllFactors(600851475143)))\n",
        "\n",
        ""
      ],
      "metadata": {
        "colab": {
          "base_uri": "https://localhost:8080/"
        },
        "id": "AWYcr0M5tq73",
        "outputId": "a455b668-8ef3-4317-cfbc-ce2c28616908"
      },
      "execution_count": 22,
      "outputs": [
        {
          "output_type": "stream",
          "name": "stdout",
          "text": [
            "6857\n"
          ]
        }
      ]
    },
    {
      "cell_type": "code",
      "source": [],
      "metadata": {
        "id": "ApDy3qmjrfDI"
      },
      "execution_count": null,
      "outputs": []
    }
  ]
}