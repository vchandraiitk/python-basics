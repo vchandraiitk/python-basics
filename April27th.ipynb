{
  "nbformat": 4,
  "nbformat_minor": 0,
  "metadata": {
    "colab": {
      "provenance": [],
      "authorship_tag": "ABX9TyOfbRdaHHl1gldUO+4dfOIK",
      "include_colab_link": true
    },
    "kernelspec": {
      "name": "python3",
      "display_name": "Python 3"
    },
    "language_info": {
      "name": "python"
    }
  },
  "cells": [
    {
      "cell_type": "markdown",
      "metadata": {
        "id": "view-in-github",
        "colab_type": "text"
      },
      "source": [
        "<a href=\"https://colab.research.google.com/github/vchandraiitk/python-basics/blob/main/April27th.ipynb\" target=\"_parent\"><img src=\"https://colab.research.google.com/assets/colab-badge.svg\" alt=\"Open In Colab\"/></a>"
      ]
    },
    {
      "cell_type": "code",
      "source": [
        "def fizzbuzz(n: int) -> str:\n",
        "    if n%3 == 0 and n% 5 ==0:\n",
        "        return (f'Number {n} is fizzbuzz')\n",
        "    elif n%3 == 0:\n",
        "        return (f'Number {n} is fizz')\n",
        "    elif n%5 == 0:\n",
        "        return (f'Number {n} is buzz')\n",
        "    return \"not f or b\"\n",
        "\n",
        "\n",
        "\n",
        "print(fizzbuzz(45))"
      ],
      "metadata": {
        "colab": {
          "base_uri": "https://localhost:8080/"
        },
        "id": "UBs6gf8d2fis",
        "outputId": "089ea236-f04a-4df4-a0cf-1347e36eb393"
      },
      "execution_count": 9,
      "outputs": [
        {
          "output_type": "stream",
          "name": "stdout",
          "text": [
            "Number 45 is fizzbuzz\n"
          ]
        }
      ]
    },
    {
      "cell_type": "code",
      "source": [
        "def fiz(n: int) -> bool:\n",
        "    return n%3 == 0\n",
        "def buzz(n: int) -> bool:\n",
        "    return n%5 == 0\n",
        "def bothfizzbuzz(n: int) -> str:\n",
        "    if fiz(n) and buzz(n):\n",
        "        return (f'Number {n} is fizzbuzz')\n",
        "    elif fiz(n):\n",
        "        return (f'Number {n} is fizz')\n",
        "    elif buzz(n) == 0:\n",
        "        return (f'Number {n} is buzz')\n",
        "    return \"not f or b\"\n",
        "print(bothfizzbuzz(45))"
      ],
      "metadata": {
        "colab": {
          "base_uri": "https://localhost:8080/"
        },
        "id": "WGFm4J0H4KPk",
        "outputId": "58993910-f73b-4c62-c821-566fb4d9b512"
      },
      "execution_count": 10,
      "outputs": [
        {
          "output_type": "stream",
          "name": "stdout",
          "text": [
            "Number 45 is fizzbuzz\n"
          ]
        }
      ]
    },
    {
      "cell_type": "code",
      "source": [
        "def isDivisible(n: int, div: int) -> bool:\n",
        "    return n%div==0\n",
        "\n",
        "\n"
      ],
      "metadata": {
        "id": "iH2TaW-i4yQr"
      },
      "execution_count": 12,
      "outputs": []
    },
    {
      "cell_type": "code",
      "execution_count": 62,
      "metadata": {
        "colab": {
          "base_uri": "https://localhost:8080/"
        },
        "id": "wJYuxmmwQ8VS",
        "outputId": "c5c0c4c3-fd4b-496f-afe7-2d85d7c2f8b5"
      },
      "outputs": [
        {
          "output_type": "stream",
          "name": "stdout",
          "text": [
            "23\n",
            "233168\n"
          ]
        }
      ],
      "source": [
        "def findSumOfNaturalNumbers(n: int) -> int:\n",
        "  total=0\n",
        "  for i in range(0,n):\n",
        "    if i%3==0 or i%5==0:\n",
        "        total += i\n",
        "  return total\n",
        "\n",
        "print(findSumOfNaturalNumbers(10))\n",
        "print(findSumOfNaturalNumbers(1000))"
      ]
    },
    {
      "cell_type": "code",
      "source": [
        "def findfactoredSet1_2(n: int)-> list[int]:\n",
        "    num,i = set(),2\n",
        "    while i <= n:\n",
        "        while n%i == 0:\n",
        "            num.add(i)\n",
        "            n //= i\n",
        "        i += 1\n",
        "    return list(num)\n",
        "def findLargestFromSet(n: int):\n",
        "    return max(findfactoredSet1_2(n))\n",
        "print(findfactoredSet1_2(13195))\n",
        "findLargestFromSet(13195)"
      ],
      "metadata": {
        "colab": {
          "base_uri": "https://localhost:8080/"
        },
        "id": "0kdYcp0p-xnD",
        "outputId": "95776bd0-48d4-495c-e418-6669c36cd869"
      },
      "execution_count": 83,
      "outputs": [
        {
          "output_type": "stream",
          "name": "stdout",
          "text": [
            "[13, 29, 5, 7]\n"
          ]
        },
        {
          "output_type": "execute_result",
          "data": {
            "text/plain": [
              "29"
            ]
          },
          "metadata": {},
          "execution_count": 83
        }
      ]
    },
    {
      "cell_type": "code",
      "source": [
        "def findLargestSet1_0(n: int):\n",
        "    num,i = set(),2\n",
        "    while i <= n:\n",
        "        while n%i == 0:\n",
        "            num.add(i)\n",
        "            n //= i\n",
        "        i += 1\n",
        "    return max(num)\n",
        "\n",
        "findLargestSet1_0(600851475143)"
      ],
      "metadata": {
        "colab": {
          "base_uri": "https://localhost:8080/"
        },
        "id": "AWYcr0M5tq73",
        "outputId": "8cfad42f-24ce-411e-acd4-12034e9ca0d2"
      },
      "execution_count": 77,
      "outputs": [
        {
          "output_type": "execute_result",
          "data": {
            "text/plain": [
              "6857"
            ]
          },
          "metadata": {},
          "execution_count": 77
        }
      ]
    },
    {
      "cell_type": "code",
      "source": [
        "def findLargestSet1_1(n: int):\n",
        "    i,maxNum = 2, 0\n",
        "    while i <= n:\n",
        "        while n%i == 0:\n",
        "            if i > maxNum:\n",
        "                maxNum = i\n",
        "                n = n//i\n",
        "        i += 1\n",
        "    return maxNum\n",
        "\n",
        "print(findLargestSet1_1(600851475143))"
      ],
      "metadata": {
        "colab": {
          "base_uri": "https://localhost:8080/"
        },
        "id": "ApDy3qmjrfDI",
        "outputId": "33d007a6-af56-4f7b-c5ea-89d370c34eab"
      },
      "execution_count": 78,
      "outputs": [
        {
          "output_type": "stream",
          "name": "stdout",
          "text": [
            "6857\n"
          ]
        }
      ]
    },
    {
      "cell_type": "code",
      "source": [
        "def is_anagram(a: str, b: str) -> bool:\n",
        "    if len(set(a))!= len(set(b)):\n",
        "        return False\n",
        "    for i in a:\n",
        "        if i not in b:\n",
        "            return False\n",
        "    return True\n",
        "\n",
        "is_anagram(\"ITEM\", \"EMIT\")"
      ],
      "metadata": {
        "colab": {
          "base_uri": "https://localhost:8080/"
        },
        "id": "TKS5rpSCA6Eq",
        "outputId": "263d8081-8f86-4e0c-913d-80ffbfd3635b"
      },
      "execution_count": 99,
      "outputs": [
        {
          "output_type": "execute_result",
          "data": {
            "text/plain": [
              "True"
            ]
          },
          "metadata": {},
          "execution_count": 99
        }
      ]
    },
    {
      "cell_type": "code",
      "source": [
        "def findReverse(n: int) -> int:\n",
        "    newNum=0\n",
        "    while n > 0:\n",
        "        newNum = newNum*10+n%10\n",
        "        n=n//10\n",
        "    return newNum;\n",
        "#print(findReverse(14312))"
      ],
      "metadata": {
        "id": "yFlNBTNNEHiT"
      },
      "execution_count": 46,
      "outputs": []
    },
    {
      "cell_type": "code",
      "source": [],
      "metadata": {
        "id": "vwYX11M_Prva"
      },
      "execution_count": null,
      "outputs": []
    },
    {
      "cell_type": "code",
      "source": [
        "def isPalindrome(f, n: int) -> bool:\n",
        "    return n == f(n)\n",
        "#print(isPalindrome(findReverse, 121))"
      ],
      "metadata": {
        "id": "NzLsrDrDH9Im"
      },
      "execution_count": 47,
      "outputs": []
    },
    {
      "cell_type": "code",
      "source": [
        "def next_palindrome_1(n: int) -> int:\n",
        "    while True:\n",
        "        n += 1;\n",
        "        if isPalindrome(findReverse, n):\n",
        "            return n\n",
        "    return -1\n",
        "print(next_palindrome_1(1278))"
      ],
      "metadata": {
        "colab": {
          "base_uri": "https://localhost:8080/"
        },
        "id": "ZRv2gWCDNQ3E",
        "outputId": "1813cfd2-028c-4798-8867-9bd2721068e4"
      },
      "execution_count": 48,
      "outputs": [
        {
          "output_type": "stream",
          "name": "stdout",
          "text": [
            "1331\n"
          ]
        }
      ]
    },
    {
      "cell_type": "code",
      "source": [
        "def next_palindrome_2(f, n: int) -> int:\n",
        "    while True:\n",
        "        n += 1;\n",
        "        if isPalindrome(f, n):\n",
        "            return n\n",
        "    return -1\n",
        "print(next_palindrome_2(findReverse, 1278))"
      ],
      "metadata": {
        "colab": {
          "base_uri": "https://localhost:8080/"
        },
        "id": "INL7YuLdNeSs",
        "outputId": "7ad70a13-4c91-4661-c4ae-74b0a57e8d0e"
      },
      "execution_count": 49,
      "outputs": [
        {
          "output_type": "stream",
          "name": "stdout",
          "text": [
            "1331\n"
          ]
        }
      ]
    },
    {
      "cell_type": "code",
      "source": [
        "def isAnagram(left, right)-> bool:\n",
        "    if(len(left) != len(right)):\n",
        "        return False\n",
        "    for i in left:\n",
        "        if i not in right:\n",
        "            return False\n",
        "    return True\n",
        "\n",
        "def anagramCluster(l: list[str]):\n",
        "    doneSet = set()\n",
        "    retList=[]\n",
        "    for i in l:\n",
        "        inn = []\n",
        "        for j in l:\n",
        "            if isAnagram(i, j):\n",
        "                if(j in doneSet):\n",
        "                    continue\n",
        "                doneSet.add(j)\n",
        "                inn.append(j)\n",
        "        if len(inn) > 0:\n",
        "            retList.append(inn)\n",
        "    return retList\n",
        "print(anagramCluster([\"SPARE\", \"TOTAL\", \"CLOUD\", \"REAPS\",\n",
        "                      \"ALLOT\", \"STEP\", \"SPEAR\", \"HELLO\",\n",
        "                      \"PEST\", \"COULD\"]))\n"
      ],
      "metadata": {
        "colab": {
          "base_uri": "https://localhost:8080/"
        },
        "id": "KXGc4Fc3B987",
        "outputId": "4ef6d7de-9207-49ba-9b8d-38f4dc442009"
      },
      "execution_count": 34,
      "outputs": [
        {
          "output_type": "stream",
          "name": "stdout",
          "text": [
            "[['SPARE', 'REAPS', 'SPEAR'], ['TOTAL', 'ALLOT'], ['CLOUD', 'COULD'], ['STEP', 'PEST'], ['HELLO']]\n"
          ]
        }
      ]
    },
    {
      "cell_type": "code",
      "source": [
        "#Kaprekar's Constant Start\n",
        "def findAllNumbers(n: int):\n",
        "    return sorted([int(ch) for ch in str(n)])"
      ],
      "metadata": {
        "id": "E74XR7htPtUT"
      },
      "execution_count": 102,
      "outputs": []
    },
    {
      "cell_type": "code",
      "source": [
        "def small(n):\n",
        "    ret_num=0\n",
        "    for i in findAllNumbers(n):\n",
        "        ret_num=ret_num*10+i\n",
        "    return ret_num\n",
        "\n",
        "def large(n):\n",
        "    ret_num=0\n",
        "    for i in reversed(findAllNumbers(n)):\n",
        "        ret_num=ret_num*10+i\n",
        "    #print(f'small{ret_num}')\n",
        "    return ret_num\n",
        "\n",
        "def findKaprekarConstant(n: int):\n",
        "    return (f'K({n}) = {large(n)} - {small(n)} = {large(n) - small(n)}')\n",
        "\n",
        "print(findKaprekarConstant(3524))\n",
        "print(findKaprekarConstant(8730))\n",
        "print(findKaprekarConstant(8532))\n",
        "print(findKaprekarConstant(7641))\n",
        "#Kaprekar's Constant Finish"
      ],
      "metadata": {
        "colab": {
          "base_uri": "https://localhost:8080/"
        },
        "id": "DfJEhq-x0inH",
        "outputId": "96226ccb-2a9d-4329-a93e-71c05e9ae616"
      },
      "execution_count": 112,
      "outputs": [
        {
          "output_type": "stream",
          "name": "stdout",
          "text": [
            "K(3524) = 5432 - 2345 = 3087\n",
            "K(8730) = 8730 - 378 = 8352\n",
            "K(8532) = 8532 - 2358 = 6174\n",
            "K(7641) = 7641 - 1467 = 6174\n"
          ]
        }
      ]
    },
    {
      "cell_type": "code",
      "source": [],
      "metadata": {
        "id": "iW7L-fHI3Ktc"
      },
      "execution_count": null,
      "outputs": []
    }
  ]
}