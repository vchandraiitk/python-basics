{
  "nbformat": 4,
  "nbformat_minor": 0,
  "metadata": {
    "colab": {
      "provenance": [],
      "authorship_tag": "ABX9TyPr0mXzZ5+P7i/QX6Uxsebi",
      "include_colab_link": true
    },
    "kernelspec": {
      "name": "python3",
      "display_name": "Python 3"
    },
    "language_info": {
      "name": "python"
    }
  },
  "cells": [
    {
      "cell_type": "markdown",
      "metadata": {
        "id": "view-in-github",
        "colab_type": "text"
      },
      "source": [
        "<a href=\"https://colab.research.google.com/github/vchandraiitk/python-basics/blob/main/April28th.ipynb\" target=\"_parent\"><img src=\"https://colab.research.google.com/assets/colab-badge.svg\" alt=\"Open In Colab\"/></a>"
      ]
    },
    {
      "cell_type": "code",
      "execution_count": 7,
      "metadata": {
        "id": "LwKBJ2LDA3oQ"
      },
      "outputs": [],
      "source": [
        "def findSumOfAllDivisors(n: int):\n",
        "    i=1\n",
        "    total=0\n",
        "    while i*2 <= n:\n",
        "        if n%i==0:\n",
        "            total += i\n",
        "        i+=1\n",
        "    return total\n",
        "\n"
      ]
    },
    {
      "cell_type": "code",
      "source": [
        "def eulerProblem21_1(n: int):\n",
        "    first = findSumOfAllDivisors(n)\n",
        "    return n == findSumOfAllDivisors(first)"
      ],
      "metadata": {
        "id": "Jqyp0IkEB8gU"
      },
      "execution_count": 24,
      "outputs": []
    },
    {
      "cell_type": "code",
      "source": [
        "print(eulerProblem21_1(220))"
      ],
      "metadata": {
        "colab": {
          "base_uri": "https://localhost:8080/"
        },
        "id": "TMNvKnFIDaBW",
        "outputId": "2ee76c51-0467-48dd-e6e7-f1c58150030a"
      },
      "execution_count": 18,
      "outputs": [
        {
          "output_type": "stream",
          "name": "stdout",
          "text": [
            "True\n"
          ]
        }
      ]
    },
    {
      "cell_type": "code",
      "source": [
        "l=[]\n",
        "for i in range(1, 10000):\n",
        "    if(eulerProblem21_1(i) == True):\n",
        "        l.append(i)\n",
        "print(l)"
      ],
      "metadata": {
        "colab": {
          "base_uri": "https://localhost:8080/"
        },
        "id": "D_TOx9AND4Fb",
        "outputId": "28b9a732-f5eb-4b35-8b3d-d9a3defb8af5"
      },
      "execution_count": 25,
      "outputs": [
        {
          "output_type": "stream",
          "name": "stdout",
          "text": [
            "[6, 28, 220, 284, 496, 1184, 1210, 2620, 2924, 5020, 5564, 6232, 6368, 8128]\n"
          ]
        }
      ]
    },
    {
      "cell_type": "code",
      "source": [
        "def eulerProblem_8(s: str, n: int) -> int:\n",
        "    l = [int(ch) for ch in s]\n",
        "    total=0\n",
        "    for i in range(0, len(s)-n+1):\n",
        "        temp=1\n",
        "        #print('---')\n",
        "        for j in range(0,n):\n",
        "            #print(l[i+j])\n",
        "            temp *= l[i+j]\n",
        "        if temp > total:\n",
        "            total = temp\n",
        "    return total\n",
        "print(eulerProblem_8('73167176531330624919225119674426574742355349194934\\\n",
        "96983520312774506326239578318016984801869478851843\\\n",
        "85861560789112949495459501737958331952853208805511\\\n",
        "12540698747158523863050715693290963295227443043557\\\n",
        "66896648950445244523161731856403098711121722383113\\\n",
        "62229893423380308135336276614282806444486645238749\\\n",
        "30358907296290491560440772390713810515859307960866\\\n",
        "70172427121883998797908792274921901699720888093776\\\n",
        "65727333001053367881220235421809751254540594752243\\\n",
        "52584907711670556013604839586446706324415722155397\\\n",
        "53697817977846174064955149290862569321978468622482\\\n",
        "83972241375657056057490261407972968652414535100474\\\n",
        "82166370484403199890008895243450658541227588666881\\\n",
        "16427171479924442928230863465674813919123162824586\\\n",
        "17866458359124566529476545682848912883142607690042\\\n",
        "24219022671055626321111109370544217506941658960408\\\n",
        "07198403850962455444362981230987879927244284909188\\\n",
        "84580156166097919133875499200524063689912560717606\\\n",
        "05886116467109405077541002256983155200055935729725\\\n",
        "71636269561882670428252483600823257530420752963450', 13))"
      ],
      "metadata": {
        "colab": {
          "base_uri": "https://localhost:8080/"
        },
        "id": "AIbrE5_YHOdS",
        "outputId": "af3f17d7-eb2a-4f20-ed2a-936862b01984"
      },
      "execution_count": 49,
      "outputs": [
        {
          "output_type": "stream",
          "name": "stdout",
          "text": [
            "23514624000\n"
          ]
        }
      ]
    },
    {
      "cell_type": "code",
      "source": [
        "def findAllDivisors(n: int):\n",
        "    l=[]\n",
        "    for i in range(1,int(n+1/2)):\n",
        "        if(n%i==0):\n",
        "            l.append(i)\n",
        "    return l\n",
        "print(findAllDivisors(2520))"
      ],
      "metadata": {
        "colab": {
          "base_uri": "https://localhost:8080/"
        },
        "id": "AxvF0I7mM_Xk",
        "outputId": "fefc9eac-59bb-4038-b047-804d9aa168df"
      },
      "execution_count": 55,
      "outputs": [
        {
          "output_type": "stream",
          "name": "stdout",
          "text": [
            "[1, 2, 3, 4, 5, 6, 7, 8, 9, 10, 12, 14, 15, 18, 20, 21, 24, 28, 30, 35, 36, 40, 42, 45, 56, 60, 63, 70, 72, 84, 90, 105, 120, 126, 140, 168, 180, 210, 252, 280, 315, 360, 420, 504, 630, 840, 1260]\n"
          ]
        }
      ]
    },
    {
      "cell_type": "code",
      "source": [
        "def eulerProblem_5(n: int):\n",
        "    multiple, n =1, n-1\n",
        "    while n>0:\n",
        "        if multiple % n != 0:\n",
        "            multiple *= n;\n",
        "        n -= 1\n",
        "    return multiple\n",
        "print(eulerProblem_5(20))"
      ],
      "metadata": {
        "colab": {
          "base_uri": "https://localhost:8080/"
        },
        "id": "2UyNmRHJPNYC",
        "outputId": "187cd8bf-2ac2-4f1d-e93f-2798206fe1e5"
      },
      "execution_count": 64,
      "outputs": [
        {
          "output_type": "stream",
          "name": "stdout",
          "text": [
            "2793510720\n"
          ]
        }
      ]
    },
    {
      "cell_type": "code",
      "source": [
        "def eulerProb_79(s: str):\n",
        "    return 1"
      ],
      "metadata": {
        "id": "GY_LKcFaRukp"
      },
      "execution_count": 65,
      "outputs": []
    }
  ]
}